{
 "cells": [
  {
   "cell_type": "markdown",
   "metadata": {},
   "source": [
    "## 1 - Amostragem"
   ]
  },
  {
   "cell_type": "code",
   "execution_count": 1,
   "metadata": {},
   "outputs": [],
   "source": [
    "# importando as bibliotecas\n",
    "import numpy as np\n",
    "import statsmodels.api as sm\n",
    "import pandas as pd\n",
    "import seaborn as sns\n",
    "import matplotlib.pyplot as plt\n",
    "from scipy.stats import norm\n",
    "from scipy import stats\n",
    "import statistics\n",
    "import random"
   ]
  },
  {
   "cell_type": "code",
   "execution_count": 2,
   "metadata": {},
   "outputs": [],
   "source": [
    "# import da base de dados de censo americano\n",
    "df = pd.read_csv('bases/census.csv')"
   ]
  },
  {
   "cell_type": "code",
   "execution_count": 3,
   "metadata": {},
   "outputs": [
    {
     "data": {
      "text/plain": [
       "(32561, 15)"
      ]
     },
     "execution_count": 3,
     "metadata": {},
     "output_type": "execute_result"
    }
   ],
   "source": [
    "df.shape"
   ]
  },
  {
   "cell_type": "code",
   "execution_count": 4,
   "metadata": {},
   "outputs": [
    {
     "data": {
      "text/html": [
       "<div>\n",
       "<style scoped>\n",
       "    .dataframe tbody tr th:only-of-type {\n",
       "        vertical-align: middle;\n",
       "    }\n",
       "\n",
       "    .dataframe tbody tr th {\n",
       "        vertical-align: top;\n",
       "    }\n",
       "\n",
       "    .dataframe thead th {\n",
       "        text-align: right;\n",
       "    }\n",
       "</style>\n",
       "<table border=\"1\" class=\"dataframe\">\n",
       "  <thead>\n",
       "    <tr style=\"text-align: right;\">\n",
       "      <th></th>\n",
       "      <th>age</th>\n",
       "      <th>workclass</th>\n",
       "      <th>final-weight</th>\n",
       "      <th>education</th>\n",
       "      <th>education-num</th>\n",
       "      <th>marital-status</th>\n",
       "      <th>occupation</th>\n",
       "      <th>relationship</th>\n",
       "      <th>race</th>\n",
       "      <th>sex</th>\n",
       "      <th>capital-gain</th>\n",
       "      <th>capital-loos</th>\n",
       "      <th>hour-per-week</th>\n",
       "      <th>native-country</th>\n",
       "      <th>income</th>\n",
       "    </tr>\n",
       "  </thead>\n",
       "  <tbody>\n",
       "    <tr>\n",
       "      <th>0</th>\n",
       "      <td>39</td>\n",
       "      <td>State-gov</td>\n",
       "      <td>77516</td>\n",
       "      <td>Bachelors</td>\n",
       "      <td>13</td>\n",
       "      <td>Never-married</td>\n",
       "      <td>Adm-clerical</td>\n",
       "      <td>Not-in-family</td>\n",
       "      <td>White</td>\n",
       "      <td>Male</td>\n",
       "      <td>2174</td>\n",
       "      <td>0</td>\n",
       "      <td>40</td>\n",
       "      <td>United-States</td>\n",
       "      <td>&lt;=50K</td>\n",
       "    </tr>\n",
       "    <tr>\n",
       "      <th>1</th>\n",
       "      <td>50</td>\n",
       "      <td>Self-emp-not-inc</td>\n",
       "      <td>83311</td>\n",
       "      <td>Bachelors</td>\n",
       "      <td>13</td>\n",
       "      <td>Married-civ-spouse</td>\n",
       "      <td>Exec-managerial</td>\n",
       "      <td>Husband</td>\n",
       "      <td>White</td>\n",
       "      <td>Male</td>\n",
       "      <td>0</td>\n",
       "      <td>0</td>\n",
       "      <td>13</td>\n",
       "      <td>United-States</td>\n",
       "      <td>&lt;=50K</td>\n",
       "    </tr>\n",
       "    <tr>\n",
       "      <th>2</th>\n",
       "      <td>38</td>\n",
       "      <td>Private</td>\n",
       "      <td>215646</td>\n",
       "      <td>HS-grad</td>\n",
       "      <td>9</td>\n",
       "      <td>Divorced</td>\n",
       "      <td>Handlers-cleaners</td>\n",
       "      <td>Not-in-family</td>\n",
       "      <td>White</td>\n",
       "      <td>Male</td>\n",
       "      <td>0</td>\n",
       "      <td>0</td>\n",
       "      <td>40</td>\n",
       "      <td>United-States</td>\n",
       "      <td>&lt;=50K</td>\n",
       "    </tr>\n",
       "    <tr>\n",
       "      <th>3</th>\n",
       "      <td>53</td>\n",
       "      <td>Private</td>\n",
       "      <td>234721</td>\n",
       "      <td>11th</td>\n",
       "      <td>7</td>\n",
       "      <td>Married-civ-spouse</td>\n",
       "      <td>Handlers-cleaners</td>\n",
       "      <td>Husband</td>\n",
       "      <td>Black</td>\n",
       "      <td>Male</td>\n",
       "      <td>0</td>\n",
       "      <td>0</td>\n",
       "      <td>40</td>\n",
       "      <td>United-States</td>\n",
       "      <td>&lt;=50K</td>\n",
       "    </tr>\n",
       "    <tr>\n",
       "      <th>4</th>\n",
       "      <td>28</td>\n",
       "      <td>Private</td>\n",
       "      <td>338409</td>\n",
       "      <td>Bachelors</td>\n",
       "      <td>13</td>\n",
       "      <td>Married-civ-spouse</td>\n",
       "      <td>Prof-specialty</td>\n",
       "      <td>Wife</td>\n",
       "      <td>Black</td>\n",
       "      <td>Female</td>\n",
       "      <td>0</td>\n",
       "      <td>0</td>\n",
       "      <td>40</td>\n",
       "      <td>Cuba</td>\n",
       "      <td>&lt;=50K</td>\n",
       "    </tr>\n",
       "  </tbody>\n",
       "</table>\n",
       "</div>"
      ],
      "text/plain": [
       "   age          workclass  final-weight   education  education-num  \\\n",
       "0   39          State-gov         77516   Bachelors             13   \n",
       "1   50   Self-emp-not-inc         83311   Bachelors             13   \n",
       "2   38            Private        215646     HS-grad              9   \n",
       "3   53            Private        234721        11th              7   \n",
       "4   28            Private        338409   Bachelors             13   \n",
       "\n",
       "        marital-status          occupation    relationship    race      sex  \\\n",
       "0        Never-married        Adm-clerical   Not-in-family   White     Male   \n",
       "1   Married-civ-spouse     Exec-managerial         Husband   White     Male   \n",
       "2             Divorced   Handlers-cleaners   Not-in-family   White     Male   \n",
       "3   Married-civ-spouse   Handlers-cleaners         Husband   Black     Male   \n",
       "4   Married-civ-spouse      Prof-specialty            Wife   Black   Female   \n",
       "\n",
       "   capital-gain  capital-loos  hour-per-week  native-country  income  \n",
       "0          2174             0             40   United-States   <=50K  \n",
       "1             0             0             13   United-States   <=50K  \n",
       "2             0             0             40   United-States   <=50K  \n",
       "3             0             0             40   United-States   <=50K  \n",
       "4             0             0             40            Cuba   <=50K  "
      ]
     },
     "execution_count": 4,
     "metadata": {},
     "output_type": "execute_result"
    }
   ],
   "source": [
    "df.head()"
   ]
  },
  {
   "cell_type": "markdown",
   "metadata": {},
   "source": [
    "### 1.1 - Amostragem Aleatória Simples"
   ]
  },
  {
   "cell_type": "code",
   "execution_count": 5,
   "metadata": {},
   "outputs": [
    {
     "data": {
      "text/plain": [
       "(100, 15)"
      ]
     },
     "execution_count": 5,
     "metadata": {},
     "output_type": "execute_result"
    }
   ],
   "source": [
    "# selecionando aleatoriamente 100 registros diferentes\n",
    "df_amostra_aleatoria_simples = df.sample(n = 100)\n",
    "df_amostra_aleatoria_simples.shape"
   ]
  },
  {
   "cell_type": "code",
   "execution_count": 6,
   "metadata": {},
   "outputs": [
    {
     "data": {
      "text/html": [
       "<div>\n",
       "<style scoped>\n",
       "    .dataframe tbody tr th:only-of-type {\n",
       "        vertical-align: middle;\n",
       "    }\n",
       "\n",
       "    .dataframe tbody tr th {\n",
       "        vertical-align: top;\n",
       "    }\n",
       "\n",
       "    .dataframe thead th {\n",
       "        text-align: right;\n",
       "    }\n",
       "</style>\n",
       "<table border=\"1\" class=\"dataframe\">\n",
       "  <thead>\n",
       "    <tr style=\"text-align: right;\">\n",
       "      <th></th>\n",
       "      <th>age</th>\n",
       "      <th>workclass</th>\n",
       "      <th>final-weight</th>\n",
       "      <th>education</th>\n",
       "      <th>education-num</th>\n",
       "      <th>marital-status</th>\n",
       "      <th>occupation</th>\n",
       "      <th>relationship</th>\n",
       "      <th>race</th>\n",
       "      <th>sex</th>\n",
       "      <th>capital-gain</th>\n",
       "      <th>capital-loos</th>\n",
       "      <th>hour-per-week</th>\n",
       "      <th>native-country</th>\n",
       "      <th>income</th>\n",
       "    </tr>\n",
       "  </thead>\n",
       "  <tbody>\n",
       "    <tr>\n",
       "      <th>23235</th>\n",
       "      <td>19</td>\n",
       "      <td>Private</td>\n",
       "      <td>104844</td>\n",
       "      <td>Some-college</td>\n",
       "      <td>10</td>\n",
       "      <td>Never-married</td>\n",
       "      <td>Sales</td>\n",
       "      <td>Own-child</td>\n",
       "      <td>White</td>\n",
       "      <td>Female</td>\n",
       "      <td>0</td>\n",
       "      <td>0</td>\n",
       "      <td>15</td>\n",
       "      <td>United-States</td>\n",
       "      <td>&lt;=50K</td>\n",
       "    </tr>\n",
       "    <tr>\n",
       "      <th>8560</th>\n",
       "      <td>32</td>\n",
       "      <td>Private</td>\n",
       "      <td>112176</td>\n",
       "      <td>Some-college</td>\n",
       "      <td>10</td>\n",
       "      <td>Divorced</td>\n",
       "      <td>Sales</td>\n",
       "      <td>Own-child</td>\n",
       "      <td>White</td>\n",
       "      <td>Male</td>\n",
       "      <td>0</td>\n",
       "      <td>0</td>\n",
       "      <td>30</td>\n",
       "      <td>United-States</td>\n",
       "      <td>&lt;=50K</td>\n",
       "    </tr>\n",
       "    <tr>\n",
       "      <th>12571</th>\n",
       "      <td>29</td>\n",
       "      <td>Private</td>\n",
       "      <td>108574</td>\n",
       "      <td>Assoc-voc</td>\n",
       "      <td>11</td>\n",
       "      <td>Never-married</td>\n",
       "      <td>Priv-house-serv</td>\n",
       "      <td>Own-child</td>\n",
       "      <td>White</td>\n",
       "      <td>Female</td>\n",
       "      <td>0</td>\n",
       "      <td>0</td>\n",
       "      <td>40</td>\n",
       "      <td>United-States</td>\n",
       "      <td>&lt;=50K</td>\n",
       "    </tr>\n",
       "    <tr>\n",
       "      <th>16592</th>\n",
       "      <td>40</td>\n",
       "      <td>Private</td>\n",
       "      <td>182140</td>\n",
       "      <td>HS-grad</td>\n",
       "      <td>9</td>\n",
       "      <td>Separated</td>\n",
       "      <td>Transport-moving</td>\n",
       "      <td>Unmarried</td>\n",
       "      <td>Black</td>\n",
       "      <td>Male</td>\n",
       "      <td>0</td>\n",
       "      <td>0</td>\n",
       "      <td>40</td>\n",
       "      <td>United-States</td>\n",
       "      <td>&lt;=50K</td>\n",
       "    </tr>\n",
       "    <tr>\n",
       "      <th>2367</th>\n",
       "      <td>34</td>\n",
       "      <td>Self-emp-inc</td>\n",
       "      <td>215382</td>\n",
       "      <td>Masters</td>\n",
       "      <td>14</td>\n",
       "      <td>Separated</td>\n",
       "      <td>Prof-specialty</td>\n",
       "      <td>Not-in-family</td>\n",
       "      <td>White</td>\n",
       "      <td>Female</td>\n",
       "      <td>4787</td>\n",
       "      <td>0</td>\n",
       "      <td>40</td>\n",
       "      <td>United-States</td>\n",
       "      <td>&gt;50K</td>\n",
       "    </tr>\n",
       "  </tbody>\n",
       "</table>\n",
       "</div>"
      ],
      "text/plain": [
       "       age      workclass  final-weight      education  education-num  \\\n",
       "23235   19        Private        104844   Some-college             10   \n",
       "8560    32        Private        112176   Some-college             10   \n",
       "12571   29        Private        108574      Assoc-voc             11   \n",
       "16592   40        Private        182140        HS-grad              9   \n",
       "2367    34   Self-emp-inc        215382        Masters             14   \n",
       "\n",
       "       marital-status         occupation    relationship    race      sex  \\\n",
       "23235   Never-married              Sales       Own-child   White   Female   \n",
       "8560         Divorced              Sales       Own-child   White     Male   \n",
       "12571   Never-married    Priv-house-serv       Own-child   White   Female   \n",
       "16592       Separated   Transport-moving       Unmarried   Black     Male   \n",
       "2367        Separated     Prof-specialty   Not-in-family   White   Female   \n",
       "\n",
       "       capital-gain  capital-loos  hour-per-week  native-country  income  \n",
       "23235             0             0             15   United-States   <=50K  \n",
       "8560              0             0             30   United-States   <=50K  \n",
       "12571             0             0             40   United-States   <=50K  \n",
       "16592             0             0             40   United-States   <=50K  \n",
       "2367           4787             0             40   United-States    >50K  "
      ]
     },
     "execution_count": 6,
     "metadata": {},
     "output_type": "execute_result"
    }
   ],
   "source": [
    "df_amostra_aleatoria_simples.head()"
   ]
  },
  {
   "cell_type": "markdown",
   "metadata": {},
   "source": [
    "### 1.2 - Amostragem Sistemática"
   ]
  },
  {
   "cell_type": "code",
   "execution_count": 7,
   "metadata": {},
   "outputs": [
    {
     "data": {
      "text/plain": [
       "325"
      ]
     },
     "execution_count": 7,
     "metadata": {},
     "output_type": "execute_result"
    }
   ],
   "source": [
    "# queremos amostra de 100 pessoas\n",
    "# então, selecionaremos as pessoas de 325 e 325 pessoas\n",
    "df.shape[0] // 100"
   ]
  },
  {
   "cell_type": "code",
   "execution_count": 8,
   "metadata": {},
   "outputs": [],
   "source": [
    "# função de geração da amostragem sistemática\n",
    "def amostragem_sistematica(dataset, amostras):\n",
    "    intervalo = dataset.shape[0] // amostras\n",
    "    random.seed(1)\n",
    "    # seleção do número aleatório inicial entre 0 e 325\n",
    "    inicio = random.randint(0, intervalo)\n",
    "    indices = np.arange(inicio, len(dataset), step = intervalo)\n",
    "    amostra_sistematica = dataset.iloc[indices]\n",
    "    return amostra_sistematica"
   ]
  },
  {
   "cell_type": "code",
   "execution_count": 9,
   "metadata": {},
   "outputs": [
    {
     "data": {
      "text/plain": [
       "(100, 15)"
      ]
     },
     "execution_count": 9,
     "metadata": {},
     "output_type": "execute_result"
    }
   ],
   "source": [
    "# aplicação da função\n",
    "df_amostragem_sistematica = amostragem_sistematica(df, 100)\n",
    "df_amostragem_sistematica.shape"
   ]
  },
  {
   "cell_type": "code",
   "execution_count": 10,
   "metadata": {},
   "outputs": [
    {
     "data": {
      "text/html": [
       "<div>\n",
       "<style scoped>\n",
       "    .dataframe tbody tr th:only-of-type {\n",
       "        vertical-align: middle;\n",
       "    }\n",
       "\n",
       "    .dataframe tbody tr th {\n",
       "        vertical-align: top;\n",
       "    }\n",
       "\n",
       "    .dataframe thead th {\n",
       "        text-align: right;\n",
       "    }\n",
       "</style>\n",
       "<table border=\"1\" class=\"dataframe\">\n",
       "  <thead>\n",
       "    <tr style=\"text-align: right;\">\n",
       "      <th></th>\n",
       "      <th>age</th>\n",
       "      <th>workclass</th>\n",
       "      <th>final-weight</th>\n",
       "      <th>education</th>\n",
       "      <th>education-num</th>\n",
       "      <th>marital-status</th>\n",
       "      <th>occupation</th>\n",
       "      <th>relationship</th>\n",
       "      <th>race</th>\n",
       "      <th>sex</th>\n",
       "      <th>capital-gain</th>\n",
       "      <th>capital-loos</th>\n",
       "      <th>hour-per-week</th>\n",
       "      <th>native-country</th>\n",
       "      <th>income</th>\n",
       "    </tr>\n",
       "  </thead>\n",
       "  <tbody>\n",
       "    <tr>\n",
       "      <th>68</th>\n",
       "      <td>49</td>\n",
       "      <td>Self-emp-inc</td>\n",
       "      <td>191681</td>\n",
       "      <td>Some-college</td>\n",
       "      <td>10</td>\n",
       "      <td>Married-civ-spouse</td>\n",
       "      <td>Exec-managerial</td>\n",
       "      <td>Husband</td>\n",
       "      <td>White</td>\n",
       "      <td>Male</td>\n",
       "      <td>0</td>\n",
       "      <td>0</td>\n",
       "      <td>50</td>\n",
       "      <td>United-States</td>\n",
       "      <td>&gt;50K</td>\n",
       "    </tr>\n",
       "    <tr>\n",
       "      <th>393</th>\n",
       "      <td>34</td>\n",
       "      <td>State-gov</td>\n",
       "      <td>98101</td>\n",
       "      <td>Bachelors</td>\n",
       "      <td>13</td>\n",
       "      <td>Married-civ-spouse</td>\n",
       "      <td>Exec-managerial</td>\n",
       "      <td>Husband</td>\n",
       "      <td>White</td>\n",
       "      <td>Male</td>\n",
       "      <td>7688</td>\n",
       "      <td>0</td>\n",
       "      <td>45</td>\n",
       "      <td>?</td>\n",
       "      <td>&gt;50K</td>\n",
       "    </tr>\n",
       "    <tr>\n",
       "      <th>718</th>\n",
       "      <td>22</td>\n",
       "      <td>Private</td>\n",
       "      <td>214399</td>\n",
       "      <td>Some-college</td>\n",
       "      <td>10</td>\n",
       "      <td>Never-married</td>\n",
       "      <td>Sales</td>\n",
       "      <td>Own-child</td>\n",
       "      <td>White</td>\n",
       "      <td>Female</td>\n",
       "      <td>0</td>\n",
       "      <td>0</td>\n",
       "      <td>15</td>\n",
       "      <td>United-States</td>\n",
       "      <td>&lt;=50K</td>\n",
       "    </tr>\n",
       "  </tbody>\n",
       "</table>\n",
       "</div>"
      ],
      "text/plain": [
       "     age      workclass  final-weight      education  education-num  \\\n",
       "68    49   Self-emp-inc        191681   Some-college             10   \n",
       "393   34      State-gov         98101      Bachelors             13   \n",
       "718   22        Private        214399   Some-college             10   \n",
       "\n",
       "          marital-status        occupation relationship    race      sex  \\\n",
       "68    Married-civ-spouse   Exec-managerial      Husband   White     Male   \n",
       "393   Married-civ-spouse   Exec-managerial      Husband   White     Male   \n",
       "718        Never-married             Sales    Own-child   White   Female   \n",
       "\n",
       "     capital-gain  capital-loos  hour-per-week  native-country  income  \n",
       "68              0             0             50   United-States    >50K  \n",
       "393          7688             0             45               ?    >50K  \n",
       "718             0             0             15   United-States   <=50K  "
      ]
     },
     "execution_count": 10,
     "metadata": {},
     "output_type": "execute_result"
    }
   ],
   "source": [
    "df_amostragem_sistematica.head(3)"
   ]
  },
  {
   "cell_type": "markdown",
   "metadata": {},
   "source": [
    "### 1.3 - Amostragem por Grupos"
   ]
  },
  {
   "cell_type": "code",
   "execution_count": 11,
   "metadata": {},
   "outputs": [],
   "source": [
    "# função amostragem por grupos\n",
    "# segmenta a base de dados em grupos com qtd de pessoas iguais e seleciona aleatoriamente um grupo\n",
    "def amostragem_agrupamento(dataset, numero_grupos):\n",
    "    intervalo = len(dataset) // numero_grupos\n",
    "\n",
    "    grupos = []\n",
    "    id_grupo = 0\n",
    "    contagem = 0\n",
    "    for _ in dataset.iterrows():\n",
    "        grupos.append(id_grupo)\n",
    "        contagem += 1\n",
    "        if contagem > intervalo:\n",
    "            contagem = 0\n",
    "            id_grupo += 1\n",
    "    \n",
    "    dataset['grupo'] = grupos\n",
    "    random.seed(2)\n",
    "    grupo_selecionado = random.randint(0, numero_grupos)\n",
    "    return dataset[dataset['grupo']==grupo_selecionado]"
   ]
  },
  {
   "cell_type": "code",
   "execution_count": 12,
   "metadata": {},
   "outputs": [
    {
     "data": {
      "text/plain": [
       "(100, 16)"
      ]
     },
     "execution_count": 12,
     "metadata": {},
     "output_type": "execute_result"
    }
   ],
   "source": [
    "# aplicando a função de amostragem por grupos\n",
    "df_amostra_agrupamento = amostragem_agrupamento(df, 326)\n",
    "df_amostra_agrupamento.shape"
   ]
  },
  {
   "cell_type": "code",
   "execution_count": 13,
   "metadata": {},
   "outputs": [
    {
     "data": {
      "text/html": [
       "<div>\n",
       "<style scoped>\n",
       "    .dataframe tbody tr th:only-of-type {\n",
       "        vertical-align: middle;\n",
       "    }\n",
       "\n",
       "    .dataframe tbody tr th {\n",
       "        vertical-align: top;\n",
       "    }\n",
       "\n",
       "    .dataframe thead th {\n",
       "        text-align: right;\n",
       "    }\n",
       "</style>\n",
       "<table border=\"1\" class=\"dataframe\">\n",
       "  <thead>\n",
       "    <tr style=\"text-align: right;\">\n",
       "      <th></th>\n",
       "      <th>age</th>\n",
       "      <th>workclass</th>\n",
       "      <th>final-weight</th>\n",
       "      <th>education</th>\n",
       "      <th>education-num</th>\n",
       "      <th>marital-status</th>\n",
       "      <th>occupation</th>\n",
       "      <th>relationship</th>\n",
       "      <th>race</th>\n",
       "      <th>sex</th>\n",
       "      <th>capital-gain</th>\n",
       "      <th>capital-loos</th>\n",
       "      <th>hour-per-week</th>\n",
       "      <th>native-country</th>\n",
       "      <th>income</th>\n",
       "      <th>grupo</th>\n",
       "    </tr>\n",
       "  </thead>\n",
       "  <tbody>\n",
       "    <tr>\n",
       "      <th>2800</th>\n",
       "      <td>47</td>\n",
       "      <td>Private</td>\n",
       "      <td>168283</td>\n",
       "      <td>Bachelors</td>\n",
       "      <td>13</td>\n",
       "      <td>Married-civ-spouse</td>\n",
       "      <td>Prof-specialty</td>\n",
       "      <td>Husband</td>\n",
       "      <td>White</td>\n",
       "      <td>Male</td>\n",
       "      <td>0</td>\n",
       "      <td>0</td>\n",
       "      <td>40</td>\n",
       "      <td>United-States</td>\n",
       "      <td>&gt;50K</td>\n",
       "      <td>28</td>\n",
       "    </tr>\n",
       "    <tr>\n",
       "      <th>2801</th>\n",
       "      <td>17</td>\n",
       "      <td>Private</td>\n",
       "      <td>295488</td>\n",
       "      <td>11th</td>\n",
       "      <td>7</td>\n",
       "      <td>Never-married</td>\n",
       "      <td>Other-service</td>\n",
       "      <td>Own-child</td>\n",
       "      <td>Black</td>\n",
       "      <td>Female</td>\n",
       "      <td>0</td>\n",
       "      <td>0</td>\n",
       "      <td>25</td>\n",
       "      <td>United-States</td>\n",
       "      <td>&lt;=50K</td>\n",
       "      <td>28</td>\n",
       "    </tr>\n",
       "    <tr>\n",
       "      <th>2802</th>\n",
       "      <td>35</td>\n",
       "      <td>Private</td>\n",
       "      <td>190895</td>\n",
       "      <td>Some-college</td>\n",
       "      <td>10</td>\n",
       "      <td>Married-civ-spouse</td>\n",
       "      <td>Prof-specialty</td>\n",
       "      <td>Husband</td>\n",
       "      <td>White</td>\n",
       "      <td>Male</td>\n",
       "      <td>0</td>\n",
       "      <td>0</td>\n",
       "      <td>60</td>\n",
       "      <td>United-States</td>\n",
       "      <td>&lt;=50K</td>\n",
       "      <td>28</td>\n",
       "    </tr>\n",
       "    <tr>\n",
       "      <th>2803</th>\n",
       "      <td>33</td>\n",
       "      <td>Private</td>\n",
       "      <td>164190</td>\n",
       "      <td>Masters</td>\n",
       "      <td>14</td>\n",
       "      <td>Never-married</td>\n",
       "      <td>Prof-specialty</td>\n",
       "      <td>Own-child</td>\n",
       "      <td>White</td>\n",
       "      <td>Male</td>\n",
       "      <td>0</td>\n",
       "      <td>0</td>\n",
       "      <td>20</td>\n",
       "      <td>United-States</td>\n",
       "      <td>&lt;=50K</td>\n",
       "      <td>28</td>\n",
       "    </tr>\n",
       "    <tr>\n",
       "      <th>2804</th>\n",
       "      <td>25</td>\n",
       "      <td>Private</td>\n",
       "      <td>216010</td>\n",
       "      <td>Assoc-acdm</td>\n",
       "      <td>12</td>\n",
       "      <td>Married-civ-spouse</td>\n",
       "      <td>Adm-clerical</td>\n",
       "      <td>Wife</td>\n",
       "      <td>White</td>\n",
       "      <td>Female</td>\n",
       "      <td>0</td>\n",
       "      <td>0</td>\n",
       "      <td>40</td>\n",
       "      <td>United-States</td>\n",
       "      <td>&lt;=50K</td>\n",
       "      <td>28</td>\n",
       "    </tr>\n",
       "  </tbody>\n",
       "</table>\n",
       "</div>"
      ],
      "text/plain": [
       "      age workclass  final-weight      education  education-num  \\\n",
       "2800   47   Private        168283      Bachelors             13   \n",
       "2801   17   Private        295488           11th              7   \n",
       "2802   35   Private        190895   Some-college             10   \n",
       "2803   33   Private        164190        Masters             14   \n",
       "2804   25   Private        216010     Assoc-acdm             12   \n",
       "\n",
       "           marital-status       occupation relationship    race      sex  \\\n",
       "2800   Married-civ-spouse   Prof-specialty      Husband   White     Male   \n",
       "2801        Never-married    Other-service    Own-child   Black   Female   \n",
       "2802   Married-civ-spouse   Prof-specialty      Husband   White     Male   \n",
       "2803        Never-married   Prof-specialty    Own-child   White     Male   \n",
       "2804   Married-civ-spouse     Adm-clerical         Wife   White   Female   \n",
       "\n",
       "      capital-gain  capital-loos  hour-per-week  native-country  income  grupo  \n",
       "2800             0             0             40   United-States    >50K     28  \n",
       "2801             0             0             25   United-States   <=50K     28  \n",
       "2802             0             0             60   United-States   <=50K     28  \n",
       "2803             0             0             20   United-States   <=50K     28  \n",
       "2804             0             0             40   United-States   <=50K     28  "
      ]
     },
     "execution_count": 13,
     "metadata": {},
     "output_type": "execute_result"
    }
   ],
   "source": [
    "df_amostra_agrupamento.head()"
   ]
  },
  {
   "cell_type": "markdown",
   "metadata": {},
   "source": [
    "### 1.4 - Amostragem Estratificada"
   ]
  },
  {
   "cell_type": "code",
   "execution_count": 14,
   "metadata": {},
   "outputs": [],
   "source": [
    "# importar biblioteca que faz a extração estratificada\n",
    "from sklearn.model_selection import StratifiedShuffleSplit"
   ]
  },
  {
   "cell_type": "code",
   "execution_count": 15,
   "metadata": {},
   "outputs": [
    {
     "data": {
      "text/plain": [
       " <=50K    24720\n",
       " >50K      7841\n",
       "Name: income, dtype: int64"
      ]
     },
     "execution_count": 15,
     "metadata": {},
     "output_type": "execute_result"
    }
   ],
   "source": [
    "# quantidade de pessoas por salário: menor ou maior que 50K ano\n",
    "# 75% da base recebe menos que 50k ano\n",
    "df['income'].value_counts()"
   ]
  },
  {
   "cell_type": "code",
   "execution_count": 28,
   "metadata": {},
   "outputs": [],
   "source": [
    "# selecionar a variavel income para ser extratificada\n",
    "def amostragem_estratificada(dataset, amostras, feature):\n",
    "    percentual = amostras / dataset.shape[0] \n",
    "    split = StratifiedShuffleSplit(test_size= percentual)\n",
    "    for _, y in split.split(dataset, dataset[feature]):\n",
    "        df_y = df.iloc[y]\n",
    "    return df_y"
   ]
  },
  {
   "cell_type": "code",
   "execution_count": 26,
   "metadata": {},
   "outputs": [
    {
     "data": {
      "text/plain": [
       "(100, 16)"
      ]
     },
     "execution_count": 26,
     "metadata": {},
     "output_type": "execute_result"
    }
   ],
   "source": [
    "# aplicação da função\n",
    "df_amostragem_estratificada = amostragem_estratificada(df, 100, 'income')\n",
    "df_amostragem_estratificada.shape"
   ]
  },
  {
   "cell_type": "code",
   "execution_count": 21,
   "metadata": {},
   "outputs": [
    {
     "data": {
      "text/plain": [
       " <=50K    76\n",
       " >50K     24\n",
       "Name: income, dtype: int64"
      ]
     },
     "execution_count": 21,
     "metadata": {},
     "output_type": "execute_result"
    }
   ],
   "source": [
    "# a distribuição da renda anual segue como a da base total, conforme queríamos\n",
    "df_amostragem_estratificada.income.value_counts()"
   ]
  },
  {
   "cell_type": "markdown",
   "metadata": {},
   "source": [
    "### 1.5 - Amostragem de Reservatório"
   ]
  },
  {
   "cell_type": "code",
   "execution_count": 31,
   "metadata": {},
   "outputs": [],
   "source": [
    "# função de amostragem de reservatório\n",
    "# essa tipo de amostragem é utilizado em stream de dados, em que nao se sabe o tamanho da base\n",
    "# nem se sabe a caracteristica dos dados, ou seja é uma esteira de dados em que dados não pinçados\n",
    "def amostragem_reservatorio(dataset, amostras):\n",
    "    stream = []\n",
    "    for i in range(len(dataset)):\n",
    "        stream.append(i)\n",
    "    \n",
    "    i = 0\n",
    "    tamanho = len(dataset)\n",
    "\n",
    "    reservatorio = [0] * amostras\n",
    "    for i in range(amostras):\n",
    "        reservatorio[i] = stream[i]\n",
    "    \n",
    "    while i < tamanho:\n",
    "        j = random.randrange(i + 1)\n",
    "        if j < amostras:\n",
    "            reservatorio[j] = stream[i]\n",
    "        i += 1\n",
    "\n",
    "    return df.iloc[reservatorio]"
   ]
  },
  {
   "cell_type": "code",
   "execution_count": 32,
   "metadata": {},
   "outputs": [
    {
     "data": {
      "text/plain": [
       "(100, 16)"
      ]
     },
     "execution_count": 32,
     "metadata": {},
     "output_type": "execute_result"
    }
   ],
   "source": [
    "# aplicação da função de amostragem de reservatório\n",
    "df_amostragem_reservatorio = amostragem_reservatorio(df, 100)\n",
    "df_amostragem_reservatorio.shape"
   ]
  },
  {
   "cell_type": "code",
   "execution_count": null,
   "metadata": {},
   "outputs": [
    {
     "data": {
      "text/html": [
       "<div>\n",
       "<style scoped>\n",
       "    .dataframe tbody tr th:only-of-type {\n",
       "        vertical-align: middle;\n",
       "    }\n",
       "\n",
       "    .dataframe tbody tr th {\n",
       "        vertical-align: top;\n",
       "    }\n",
       "\n",
       "    .dataframe thead th {\n",
       "        text-align: right;\n",
       "    }\n",
       "</style>\n",
       "<table border=\"1\" class=\"dataframe\">\n",
       "  <thead>\n",
       "    <tr style=\"text-align: right;\">\n",
       "      <th></th>\n",
       "      <th>age</th>\n",
       "      <th>workclass</th>\n",
       "      <th>final-weight</th>\n",
       "      <th>education</th>\n",
       "      <th>education-num</th>\n",
       "      <th>marital-status</th>\n",
       "      <th>occupation</th>\n",
       "      <th>relationship</th>\n",
       "      <th>race</th>\n",
       "      <th>sex</th>\n",
       "      <th>capital-gain</th>\n",
       "      <th>capital-loos</th>\n",
       "      <th>hour-per-week</th>\n",
       "      <th>native-country</th>\n",
       "      <th>income</th>\n",
       "      <th>grupo</th>\n",
       "    </tr>\n",
       "  </thead>\n",
       "  <tbody>\n",
       "    <tr>\n",
       "      <th>14096</th>\n",
       "      <td>53</td>\n",
       "      <td>Private</td>\n",
       "      <td>152810</td>\n",
       "      <td>Masters</td>\n",
       "      <td>14</td>\n",
       "      <td>Married-civ-spouse</td>\n",
       "      <td>Exec-managerial</td>\n",
       "      <td>Husband</td>\n",
       "      <td>White</td>\n",
       "      <td>Male</td>\n",
       "      <td>0</td>\n",
       "      <td>1977</td>\n",
       "      <td>55</td>\n",
       "      <td>United-States</td>\n",
       "      <td>&gt;50K</td>\n",
       "      <td>140</td>\n",
       "    </tr>\n",
       "    <tr>\n",
       "      <th>30468</th>\n",
       "      <td>38</td>\n",
       "      <td>?</td>\n",
       "      <td>365465</td>\n",
       "      <td>Assoc-voc</td>\n",
       "      <td>11</td>\n",
       "      <td>Never-married</td>\n",
       "      <td>?</td>\n",
       "      <td>Own-child</td>\n",
       "      <td>White</td>\n",
       "      <td>Male</td>\n",
       "      <td>0</td>\n",
       "      <td>0</td>\n",
       "      <td>15</td>\n",
       "      <td>United-States</td>\n",
       "      <td>&lt;=50K</td>\n",
       "      <td>304</td>\n",
       "    </tr>\n",
       "    <tr>\n",
       "      <th>3715</th>\n",
       "      <td>21</td>\n",
       "      <td>Private</td>\n",
       "      <td>344891</td>\n",
       "      <td>Some-college</td>\n",
       "      <td>10</td>\n",
       "      <td>Never-married</td>\n",
       "      <td>Adm-clerical</td>\n",
       "      <td>Own-child</td>\n",
       "      <td>Asian-Pac-Islander</td>\n",
       "      <td>Male</td>\n",
       "      <td>0</td>\n",
       "      <td>0</td>\n",
       "      <td>20</td>\n",
       "      <td>United-States</td>\n",
       "      <td>&lt;=50K</td>\n",
       "      <td>37</td>\n",
       "    </tr>\n",
       "  </tbody>\n",
       "</table>\n",
       "</div>"
      ],
      "text/plain": [
       "       age workclass  final-weight      education  education-num  \\\n",
       "14096   53   Private        152810        Masters             14   \n",
       "30468   38         ?        365465      Assoc-voc             11   \n",
       "3715    21   Private        344891   Some-college             10   \n",
       "\n",
       "            marital-status        occupation relationship  \\\n",
       "14096   Married-civ-spouse   Exec-managerial      Husband   \n",
       "30468        Never-married                 ?    Own-child   \n",
       "3715         Never-married      Adm-clerical    Own-child   \n",
       "\n",
       "                      race    sex  capital-gain  capital-loos  hour-per-week  \\\n",
       "14096                White   Male             0          1977             55   \n",
       "30468                White   Male             0             0             15   \n",
       "3715    Asian-Pac-Islander   Male             0             0             20   \n",
       "\n",
       "       native-country  income  grupo  \n",
       "14096   United-States    >50K    140  \n",
       "30468   United-States   <=50K    304  \n",
       "3715    United-States   <=50K     37  "
      ]
     },
     "execution_count": 49,
     "metadata": {},
     "output_type": "execute_result"
    }
   ],
   "source": [
    "df_amostragem_reservatorio.head(3)"
   ]
  },
  {
   "cell_type": "markdown",
   "metadata": {},
   "source": [
    "### 1.6 - Comparativo das Amostragens"
   ]
  },
  {
   "cell_type": "code",
   "execution_count": 44,
   "metadata": {},
   "outputs": [
    {
     "name": "stdout",
     "output_type": "stream",
     "text": [
      "Média idade da base:  38.58\n",
      "Média idade da Amostragem Aleatória Simples:  37.86\n",
      "Média idade da Amostragem Sistemática:  37.57\n",
      "Média idade da Amostragem por Grupos:  38.1\n",
      "Média idade da Amostragem Estratificada:  37.86\n",
      "Média idade da Amostragem de Reservatório:  37.88\n"
     ]
    }
   ],
   "source": [
    "print('Média idade da base: ',round(df['age'].mean(),2))\n",
    "print('Média idade da Amostragem Aleatória Simples: ',round(df_amostra_aleatoria_simples['age'].mean(),2))\n",
    "print('Média idade da Amostragem Sistemática: ',round(df_amostragem_sistematica['age'].mean(),2))\n",
    "print('Média idade da Amostragem por Grupos: ',round(df_amostra_agrupamento['age'].mean(),2))\n",
    "print('Média idade da Amostragem Estratificada: ',round(df_amostra_aleatoria_simples['age'].mean(),2))\n",
    "print('Média idade da Amostragem de Reservatório: ',round(df_amostragem_reservatorio['age'].mean(),2))"
   ]
  },
  {
   "cell_type": "markdown",
   "metadata": {},
   "source": [
    "### 1.7 - Comparativo das Amostragens base Cartão de Crédito"
   ]
  },
  {
   "cell_type": "code",
   "execution_count": 45,
   "metadata": {},
   "outputs": [],
   "source": [
    "# importando a base de dados de credito\n",
    "df_cd = pd.read_csv('bases/credit_data.csv')"
   ]
  },
  {
   "cell_type": "code",
   "execution_count": 46,
   "metadata": {},
   "outputs": [],
   "source": [
    "df_cd['c#default_1'] = df_cd['c#default'].apply(lambda x: str(x))"
   ]
  },
  {
   "cell_type": "code",
   "execution_count": 47,
   "metadata": {},
   "outputs": [
    {
     "data": {
      "text/html": [
       "<div>\n",
       "<style scoped>\n",
       "    .dataframe tbody tr th:only-of-type {\n",
       "        vertical-align: middle;\n",
       "    }\n",
       "\n",
       "    .dataframe tbody tr th {\n",
       "        vertical-align: top;\n",
       "    }\n",
       "\n",
       "    .dataframe thead th {\n",
       "        text-align: right;\n",
       "    }\n",
       "</style>\n",
       "<table border=\"1\" class=\"dataframe\">\n",
       "  <thead>\n",
       "    <tr style=\"text-align: right;\">\n",
       "      <th></th>\n",
       "      <th>i#clientid</th>\n",
       "      <th>income</th>\n",
       "      <th>age</th>\n",
       "      <th>loan</th>\n",
       "      <th>c#default</th>\n",
       "      <th>c#default_1</th>\n",
       "    </tr>\n",
       "  </thead>\n",
       "  <tbody>\n",
       "    <tr>\n",
       "      <th>0</th>\n",
       "      <td>1</td>\n",
       "      <td>66155.925095</td>\n",
       "      <td>59.017015</td>\n",
       "      <td>8106.532131</td>\n",
       "      <td>0</td>\n",
       "      <td>0</td>\n",
       "    </tr>\n",
       "    <tr>\n",
       "      <th>1</th>\n",
       "      <td>2</td>\n",
       "      <td>34415.153966</td>\n",
       "      <td>48.117153</td>\n",
       "      <td>6564.745018</td>\n",
       "      <td>0</td>\n",
       "      <td>0</td>\n",
       "    </tr>\n",
       "    <tr>\n",
       "      <th>2</th>\n",
       "      <td>3</td>\n",
       "      <td>57317.170063</td>\n",
       "      <td>63.108049</td>\n",
       "      <td>8020.953296</td>\n",
       "      <td>0</td>\n",
       "      <td>0</td>\n",
       "    </tr>\n",
       "  </tbody>\n",
       "</table>\n",
       "</div>"
      ],
      "text/plain": [
       "   i#clientid        income        age         loan  c#default c#default_1\n",
       "0           1  66155.925095  59.017015  8106.532131          0           0\n",
       "1           2  34415.153966  48.117153  6564.745018          0           0\n",
       "2           3  57317.170063  63.108049  8020.953296          0           0"
      ]
     },
     "execution_count": 47,
     "metadata": {},
     "output_type": "execute_result"
    }
   ],
   "source": [
    "df_cd.head(3)"
   ]
  },
  {
   "cell_type": "code",
   "execution_count": 48,
   "metadata": {},
   "outputs": [
    {
     "data": {
      "text/plain": [
       "0    1717\n",
       "1     283\n",
       "Name: c#default_1, dtype: int64"
      ]
     },
     "execution_count": 48,
     "metadata": {},
     "output_type": "execute_result"
    }
   ],
   "source": [
    "df_cd['c#default_1'].value_counts()"
   ]
  },
  {
   "cell_type": "code",
   "execution_count": 55,
   "metadata": {},
   "outputs": [],
   "source": [
    "# função de amostragem estratificada da base de credito\n",
    "def amostragem_estratificada(dataset, amostras, feature):\n",
    "    percentual = amostras / dataset.shape[0] \n",
    "    split = StratifiedShuffleSplit(test_size= percentual)\n",
    "    for _, y in split.split(dataset, dataset[feature]):\n",
    "        df_y = df_cd.iloc[y]\n",
    "    return df_y"
   ]
  },
  {
   "cell_type": "code",
   "execution_count": 56,
   "metadata": {},
   "outputs": [],
   "source": [
    "# função de amostragem de reservatório para base de crédito\n",
    "def amostragem_reservatorio(dataset, amostras):\n",
    "    stream = []\n",
    "    for i in range(len(dataset)):\n",
    "        stream.append(i)\n",
    "    \n",
    "    i = 0\n",
    "    tamanho = len(dataset)\n",
    "\n",
    "    reservatorio = [0] * amostras\n",
    "    for i in range(amostras):\n",
    "        reservatorio[i] = stream[i]\n",
    "    \n",
    "    while i < tamanho:\n",
    "        j = random.randrange(i + 1)\n",
    "        if j < amostras:\n",
    "            reservatorio[j] = stream[i]\n",
    "        i += 1\n",
    "\n",
    "    return df_cd.iloc[reservatorio]"
   ]
  },
  {
   "cell_type": "code",
   "execution_count": 57,
   "metadata": {},
   "outputs": [],
   "source": [
    "# aplicação das 5 funções de amostragens na base de crédito\n",
    "# mesma qtd de amostras: 100\n",
    "df_cd_amostragem_aleatoria = df_cd.sample(100)\n",
    "df_cd_amostragem_sistematica = amostragem_sistematica(df_cd, 100)\n",
    "df_cd_amostragem_agrupamento = amostragem_agrupamento(df_cd, 100)\n",
    "df_cd_amostragem_estratificada = amostragem_estratificada(df_cd, 100, 'c#default_1')\n",
    "df_cd_amostragem_reservatorio = amostragem_reservatorio(df_cd, 100)"
   ]
  },
  {
   "cell_type": "code",
   "execution_count": 59,
   "metadata": {},
   "outputs": [
    {
     "name": "stdout",
     "output_type": "stream",
     "text": [
      "Médias da base:  40.81 45331.6 4444.37\n",
      "Médias da Amostragem Aleatória Simples:  42.4 44838.46 4306.52\n",
      "Médias da Amostragem Sistemática:  40.48 42839.84 4742.21\n",
      "Médias da Amostragem por Grupos:  42.29 49697.7 5515.71\n",
      "Médias da Amostragem Estratificada:  39.61 43128.94 4369.38\n",
      "Médias da Amostragem de Reservatório:  40.09 44732.22 4242.87\n"
     ]
    }
   ],
   "source": [
    "print('Médias da base: ',round(df_cd['age'].mean(),2), round(df_cd['income'].mean(),2), round(df_cd['loan'].mean(),2))\n",
    "print('Médias da Amostragem Aleatória Simples: ',round(df_cd_amostragem_aleatoria['age'].mean(),2), round(df_cd_amostragem_aleatoria['income'].mean(),2), round(df_cd_amostragem_aleatoria['loan'].mean(),2))\n",
    "print('Médias da Amostragem Sistemática: ',round(df_cd_amostragem_sistematica['age'].mean(),2), round(df_cd_amostragem_sistematica['income'].mean(),2), round(df_cd_amostragem_sistematica['loan'].mean(),2))\n",
    "print('Médias da Amostragem por Grupos: ',round(df_cd_amostragem_agrupamento['age'].mean(),2), round(df_cd_amostragem_agrupamento['income'].mean(),2), round(df_cd_amostragem_agrupamento['loan'].mean(),2))\n",
    "print('Médias da Amostragem Estratificada: ',round(df_cd_amostragem_estratificada['age'].mean(),2), round(df_cd_amostragem_estratificada['income'].mean(),2), round(df_cd_amostragem_estratificada['loan'].mean(),2))\n",
    "print('Médias da Amostragem de Reservatório: ',round(df_cd_amostragem_reservatorio['age'].mean(),2), round(df_cd_amostragem_reservatorio['income'].mean(),2), round(df_cd_amostragem_reservatorio['loan'].mean(),2))"
   ]
  },
  {
   "cell_type": "code",
   "execution_count": 64,
   "metadata": {},
   "outputs": [
    {
     "name": "stdout",
     "output_type": "stream",
     "text": [
      "Diff Amostragem Aleatória Simples:  1.6 493.1 137.8\n",
      "Diff Amostragem Sistemática:  0.3 2491.8 297.8\n",
      "Diff Amostragem por Grupos:  1.5 4366.1 1071.3\n",
      "Diff Amostragem Estratificada:  1.2 2202.7 75.0\n",
      "Diff Amostragem Reservatório:  0.7 599.4 201.5\n"
     ]
    }
   ],
   "source": [
    "# verificar as diferenças entra as médias da base e dos tipos de amostragem\n",
    "print('Diff Amostragem Aleatória Simples: ', round(abs(40.81 - 42.4),1), round(abs(45331.6 - 44838.46),1), round(abs(4444.37 - 4306.52),1))\n",
    "print('Diff Amostragem Sistemática: ', round(abs(40.81 - 40.48),1), round(abs(45331.6 - 42839.84),1), round(abs(4444.37 - 4742.21),1))\n",
    "print('Diff Amostragem por Grupos: ', round(abs(40.81 - 42.29),1), round(abs(45331.6 - 49697.7),1), round(abs(4444.37 - 5515.71),1))\n",
    "print('Diff Amostragem Estratificada: ', round(abs(40.81 - 39.61),1), round(abs(45331.6 - 43128.94),1), round(abs(4444.37 - 4369.38),1))\n",
    "print('Diff Amostragem Reservatório: ', round(abs(40.81 - 40.09),1), round(abs(45331.6 - 44732.22),1), round(abs(4444.37 - 4242.87),1))\n",
    "# Em geral, os melhores resultados são da Aleatória Simples e Reservatório"
   ]
  },
  {
   "cell_type": "markdown",
   "metadata": {},
   "source": [
    "## 2 - Naive Bayes"
   ]
  },
  {
   "cell_type": "code",
   "execution_count": 65,
   "metadata": {},
   "outputs": [],
   "source": [
    "df = pd.read_csv('bases/credit_data.csv')"
   ]
  },
  {
   "cell_type": "code",
   "execution_count": 66,
   "metadata": {},
   "outputs": [
    {
     "data": {
      "text/plain": [
       "(2000, 5)"
      ]
     },
     "execution_count": 66,
     "metadata": {},
     "output_type": "execute_result"
    }
   ],
   "source": [
    "df.shape"
   ]
  },
  {
   "cell_type": "code",
   "execution_count": 67,
   "metadata": {},
   "outputs": [],
   "source": [
    "# retirando os valores nulos\n",
    "df.dropna(inplace=True)"
   ]
  },
  {
   "cell_type": "code",
   "execution_count": 71,
   "metadata": {},
   "outputs": [
    {
     "data": {
      "image/png": "[encoded data removed]",
      "text/plain": [
       "<Figure size 432x288 with 1 Axes>"
      ]
     },
     "metadata": {
      "needs_background": "light"
     },
     "output_type": "display_data"
    }
   ],
   "source": [
    "# plot da contagem de dados de quem pagou ou não a dívida\n",
    "sns.countplot(data= df, x='c#default').set_title('Contagem de Pagamento da Dívida');"
   ]
  },
  {
   "cell_type": "code",
   "execution_count": 87,
   "metadata": {},
   "outputs": [
    {
     "name": "stdout",
     "output_type": "stream",
     "text": [
      "0    1714\n",
      "1     283\n",
      "Name: c#default, dtype: int64\n"
     ]
    },
    {
     "data": {
      "text/plain": [
       "0.8582874311467201"
      ]
     },
     "execution_count": 87,
     "metadata": {},
     "output_type": "execute_result"
    }
   ],
   "source": [
    "print(df['c#default'].value_counts())\n",
    "1714/(1714+283)"
   ]
  },
  {
   "cell_type": "code",
   "execution_count": 78,
   "metadata": {},
   "outputs": [
    {
     "data": {
      "image/png": "[encoded data removed]",
      "text/plain": [
       "<Figure size 432x288 with 1 Axes>"
      ]
     },
     "metadata": {
      "needs_background": "light"
     },
     "output_type": "display_data"
    }
   ],
   "source": [
    "# plot da média de idade quem pagou ou não a dívida\n",
    "# 0 a pessoa pagou a dívida e 1 o cliente é inadimplente\n",
    "sns.barplot(data= df, y='age', x='c#default', estimator=np.mean).set_title('Média de Idade');"
   ]
  },
  {
   "cell_type": "code",
   "execution_count": 80,
   "metadata": {},
   "outputs": [
    {
     "data": {
      "image/png": "[encoded data removed]",
      "text/plain": [
       "<Figure size 432x288 with 1 Axes>"
      ]
     },
     "metadata": {
      "needs_background": "light"
     },
     "output_type": "display_data"
    }
   ],
   "source": [
    "# plot da média de renda quem pagou ou não a dívida\n",
    "# 0 a pessoa pagou a dívida e 1 o cliente é inadimplente\n",
    "sns.barplot(data= df, y='income', x='c#default', estimator=np.mean).set_title('Média da Renda');"
   ]
  },
  {
   "cell_type": "code",
   "execution_count": 83,
   "metadata": {},
   "outputs": [
    {
     "data": {
      "image/png": "[encoded data removed]",
      "text/plain": [
       "<Figure size 432x288 with 1 Axes>"
      ]
     },
     "metadata": {
      "needs_background": "light"
     },
     "output_type": "display_data"
    }
   ],
   "source": [
    "# plot da média da dívida quem pagou ou não a dívida\n",
    "# 0 a pessoa pagou a dívida e 1 o cliente é inadimplente\n",
    "sns.barplot(data= df, y='loan', x='c#default', estimator=np.mean).set_title('Média da Dívida');"
   ]
  },
  {
   "cell_type": "code",
   "execution_count": null,
   "metadata": {},
   "outputs": [],
   "source": [
    "# algumas conclusões\n",
    "# 1- A variável a ser predita é desbalanceada, ou seja, 15% da base é de clientes inadimplentes;\n",
    "# 2- A média de idade de clientes inadimplentes é menor, em torno de 28 anos contra 44 anos;\n",
    "# 3- A média da renda é praticamente igual entre clientes que pagaram e não pagaram;\n",
    "# 4- A média da dívida de quem não pagou é quase o dobro de quem pagou;"
   ]
  },
  {
   "cell_type": "code",
   "execution_count": 81,
   "metadata": {},
   "outputs": [],
   "source": [
    "# importação da biblioteca de divisão da base em treino e teste\n",
    "from sklearn.model_selection import train_test_split"
   ]
  },
  {
   "cell_type": "code",
   "execution_count": 84,
   "metadata": {},
   "outputs": [],
   "source": [
    "# separando as variáveis previsoras e a variável target\n",
    "X = df[['age','income','loan']].values\n",
    "Y = df['c#default'].values"
   ]
  },
  {
   "cell_type": "code",
   "execution_count": 88,
   "metadata": {},
   "outputs": [],
   "source": [
    "# devisão da base em treino e teste\n",
    "X_train, X_test, Y_train, Y_test = train_test_split(X, Y, test_size=0.2, stratify=Y)"
   ]
  },
  {
   "cell_type": "code",
   "execution_count": 106,
   "metadata": {},
   "outputs": [
    {
     "data": {
      "text/plain": [
       "(array([0, 1], dtype=int64), array([343,  57], dtype=int64))"
      ]
     },
     "execution_count": 106,
     "metadata": {},
     "output_type": "execute_result"
    }
   ],
   "source": [
    "# verificando se a proporção da base foi mantida de 15% e 85% na base teste\n",
    "np.unique(Y_test, return_counts=True)"
   ]
  },
  {
   "cell_type": "code",
   "execution_count": 108,
   "metadata": {},
   "outputs": [
    {
     "data": {
      "text/plain": [
       "(array([0, 1], dtype=int64), array([1371,  226], dtype=int64))"
      ]
     },
     "execution_count": 108,
     "metadata": {},
     "output_type": "execute_result"
    }
   ],
   "source": [
    "# verificando se a proporção da base foi mantida de 15% e 85% na base treinamento\n",
    "np.unique(Y_train, return_counts=True)"
   ]
  },
  {
   "cell_type": "code",
   "execution_count": null,
   "metadata": {},
   "outputs": [],
   "source": []
  },
  {
   "cell_type": "code",
   "execution_count": null,
   "metadata": {},
   "outputs": [],
   "source": []
  },
  {
   "cell_type": "code",
   "execution_count": null,
   "metadata": {},
   "outputs": [],
   "source": []
  },
  {
   "cell_type": "code",
   "execution_count": null,
   "metadata": {},
   "outputs": [],
   "source": []
  },
  {
   "cell_type": "code",
   "execution_count": null,
   "metadata": {},
   "outputs": [],
   "source": []
  },
  {
   "cell_type": "code",
   "execution_count": null,
   "metadata": {},
   "outputs": [],
   "source": []
  },
  {
   "cell_type": "code",
   "execution_count": null,
   "metadata": {},
   "outputs": [],
   "source": []
  },
  {
   "cell_type": "code",
   "execution_count": null,
   "metadata": {},
   "outputs": [],
   "source": []
  },
  {
   "cell_type": "code",
   "execution_count": null,
   "metadata": {},
   "outputs": [],
   "source": []
  },
  {
   "cell_type": "code",
   "execution_count": null,
   "metadata": {},
   "outputs": [],
   "source": []
  }
 ],
 "metadata": {
  "interpreter": {
   "hash": "c33996a1a7c5fda85612bd918562506cfff69a3497605696c7a2bee4a3573303"
  },
  "kernelspec": {
   "display_name": "Python 3.9.2 64-bit",
   "language": "python",
   "name": "python3"
  },
  "language_info": {
   "codemirror_mode": {
    "name": "ipython",
    "version": 3
   },
   "file_extension": ".py",
   "mimetype": "text/x-python",
   "name": "python",
   "nbconvert_exporter": "python",
   "pygments_lexer": "ipython3",
   "version": "3.9.2"
  },
  "orig_nbformat": 4
 },
 "nbformat": 4,
 "nbformat_minor": 2
}
